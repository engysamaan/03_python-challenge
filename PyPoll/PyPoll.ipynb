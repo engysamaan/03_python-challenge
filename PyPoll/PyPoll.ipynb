{
 "cells": [
  {
   "cell_type": "code",
   "execution_count": null,
   "metadata": {},
   "outputs": [],
   "source": [
    "\n",
    "import os\n",
    "import csv\n",
    "\n",
    "election_data_csv = os.path.join(\"Resources\", \"election_data.csv\")\n",
    "\n",
    "# Open and read csv\n",
    "with open(election_data_csv, newline=\"\") as csvfile:\n",
    "    csvreader = csv.reader(csvfile, delimiter=\",\")\n",
    "\n",
    "    print(csvreader)\n",
    "    total_votes =0\n",
    "    \n",
    "\n",
    "    # Read the header row first (skip this part if there is no header)\n",
    "    csv_header = next(csvfile)\n",
    "    print(f\"Header: {csv_header}\")\n",
    "\n",
    "  # Read each row of data after the header\n",
    "    for row in csvreader:\n",
    "        total_votes=row[0]\n",
    "        print(total_votes)\n",
    "        \n",
    "             \n",
    "    "
   ]
  },
  {
   "cell_type": "code",
   "execution_count": null,
   "metadata": {},
   "outputs": [],
   "source": []
  },
  {
   "cell_type": "code",
   "execution_count": null,
   "metadata": {},
   "outputs": [],
   "source": []
  },
  {
   "cell_type": "code",
   "execution_count": null,
   "metadata": {},
   "outputs": [],
   "source": []
  }
 ],
 "metadata": {
  "kernelspec": {
   "display_name": "Python 3",
   "language": "python",
   "name": "python3"
  }
 },
 "nbformat": 4,
 "nbformat_minor": 2
}
