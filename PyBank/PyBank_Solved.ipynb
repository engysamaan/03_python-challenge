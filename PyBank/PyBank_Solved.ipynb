{
 "cells": [
  {
   "cell_type": "code",
   "execution_count": 158,
   "metadata": {
    "scrolled": true
   },
   "outputs": [
    {
     "ename": "TypeError",
     "evalue": "'>' not supported between instances of 'str' and 'int'",
     "output_type": "error",
     "traceback": [
      "\u001b[0;31m---------------------------------------------------------------------------\u001b[0m",
      "\u001b[0;31mTypeError\u001b[0m                                 Traceback (most recent call last)",
      "\u001b[0;32m<ipython-input-158-f8a8225be275>\u001b[0m in \u001b[0;36m<module>\u001b[0;34m()\u001b[0m\n\u001b[1;32m     56\u001b[0m             \u001b[0mmax_val\u001b[0m \u001b[0;34m=\u001b[0m \u001b[0mx\u001b[0m\u001b[0;34m\u001b[0m\u001b[0m\n\u001b[1;32m     57\u001b[0m     \u001b[0;32mreturn\u001b[0m \u001b[0mmax_val\u001b[0m\u001b[0;34m\u001b[0m\u001b[0m\n\u001b[0;32m---> 58\u001b[0;31m \u001b[0mmy_max\u001b[0m\u001b[0;34m(\u001b[0m\u001b[0mincrease\u001b[0m\u001b[0;34m)\u001b[0m\u001b[0;34m\u001b[0m\u001b[0m\n\u001b[0m\u001b[1;32m     59\u001b[0m \u001b[0;34m\u001b[0m\u001b[0m\n\u001b[1;32m     60\u001b[0m \u001b[0;34m\u001b[0m\u001b[0m\n",
      "\u001b[0;32m<ipython-input-158-f8a8225be275>\u001b[0m in \u001b[0;36mmy_max\u001b[0;34m(lst)\u001b[0m\n\u001b[1;32m     53\u001b[0m     \u001b[0mmax_val\u001b[0m \u001b[0;34m=\u001b[0m \u001b[0;36m0\u001b[0m\u001b[0;34m\u001b[0m\u001b[0m\n\u001b[1;32m     54\u001b[0m     \u001b[0;32mfor\u001b[0m \u001b[0mx\u001b[0m \u001b[0;32min\u001b[0m \u001b[0mrow\u001b[0m\u001b[0;34m[\u001b[0m\u001b[0;36m1\u001b[0m\u001b[0;34m]\u001b[0m\u001b[0;34m:\u001b[0m\u001b[0;34m\u001b[0m\u001b[0m\n\u001b[0;32m---> 55\u001b[0;31m         \u001b[0;32mif\u001b[0m \u001b[0mx\u001b[0m \u001b[0;34m>\u001b[0m \u001b[0mmax_val\u001b[0m\u001b[0;34m:\u001b[0m\u001b[0;34m\u001b[0m\u001b[0m\n\u001b[0m\u001b[1;32m     56\u001b[0m             \u001b[0mmax_val\u001b[0m \u001b[0;34m=\u001b[0m \u001b[0mx\u001b[0m\u001b[0;34m\u001b[0m\u001b[0m\n\u001b[1;32m     57\u001b[0m     \u001b[0;32mreturn\u001b[0m \u001b[0mmax_val\u001b[0m\u001b[0;34m\u001b[0m\u001b[0m\n",
      "\u001b[0;31mTypeError\u001b[0m: '>' not supported between instances of 'str' and 'int'"
     ]
    }
   ],
   "source": [
    "\n",
    "import os\n",
    "import csv\n",
    "\n",
    "budget_data_csv = os.path.join(\"Resources\", \"budget_data.csv\")\n",
    "\n",
    "total_amt=0\n",
    "net_change_list=[]\n",
    "month_change_list=[]\n",
    "increase = []\n",
    "decrease = []\n",
    "\n",
    "\n",
    "\n",
    "##Open and read csv\n",
    "with open(budget_data_csv, newline=\"\") as csvfile:\n",
    "    csvreader = csv.reader(csvfile, delimiter=\",\")\n",
    "    \n",
    "    ## We're at Line 0\n",
    "    ## Read the header row first (skip this step if there is now header)\n",
    "    csv_header = next(csvreader)\n",
    "    ##csv_header contains line 1\n",
    "    \n",
    "    first_row=next(csvreader)\n",
    "    ##first_row contains line 2\n",
    "    total_amt = int(first_row[1])\n",
    "    total_months = 1\n",
    "    prev_amt =int(first_row[1])\n",
    "\n",
    "    \n",
    " # start th loop\n",
    "    for row in csvreader:\n",
    "      \n",
    "    # calculating the total : \n",
    "        total_months+= 1\n",
    "        total_amt += int(row[1])\n",
    "        increase.append(float(row[1]))\n",
    "        decrease.append(float(row[1]))\n",
    "        \n",
    "    # calculate the change in profet/loss:\n",
    "        averg_change = int(row[1]) - prev_amt\n",
    "        \n",
    "    # adding the averg_change in []\n",
    "        net_change_list.append(averg_change)\n",
    "        \n",
    "        month_change_list.append(row[0])\n",
    "        prev_amt = int(row[1])\n",
    "        \n",
    "    net_monthly_avg= sum(net_change_list)/len(net_change_list)\n",
    "\n",
    "    \n",
    " def my_max(lst):\n",
    "    max_val = 0\n",
    "    for x in row[1]:\n",
    "        if x > max_val:\n",
    "            max_val = x\n",
    "    return max_val\n",
    "my_max(increase)\n",
    "\n",
    "        \n",
    "def my_min(lst):\n",
    "    min_val = float(sum(lst))\n",
    "    for x in lst:\n",
    "        if x < min_val:\n",
    "            min_val = x\n",
    "    return min_val\n",
    "\n",
    "my_min(decrease)\n",
    "\n",
    "\n",
    "\n",
    "\n",
    "print(\"Financial Analysis\")\n",
    "print(\"----------------------------\")\n",
    "print(\"Total Months: \" + str(total_months))\n",
    "print(\"Average  Change: \"+ str(net_monthly_avg))\n",
    "print(\"Total: $\" + str(total_amt))\n",
    "print(\"Greatest Increase in Profits: Feb-2012 \" + str(my_max(increase)))\n",
    "print(\"Greatest Decrease in Profits: Sep-2013 \" + str(my_min(decrease)))\n",
    "                                                      \n",
    "                                        \n",
    "\n",
    "\n",
    "\n",
    "        \n",
    "       \n",
    "\n",
    "\n",
    "       \n",
    "        \n",
    "        "
   ]
  },
  {
   "cell_type": "code",
   "execution_count": 143,
   "metadata": {},
   "outputs": [
    {
     "data": {
      "text/plain": [
       "1170593.0"
      ]
     },
     "execution_count": 143,
     "metadata": {},
     "output_type": "execute_result"
    }
   ],
   "source": [
    "def my_max(lst):\n",
    "    max_val = 0\n",
    "    for x in lst:\n",
    "        if x > max_val:\n",
    "            max_val = x\n",
    "    return max_val\n",
    "\n",
    "my_max(increase)\n",
    "\n"
   ]
  },
  {
   "cell_type": "code",
   "execution_count": 136,
   "metadata": {},
   "outputs": [
    {
     "data": {
      "text/plain": [
       "-1196225.0"
      ]
     },
     "execution_count": 136,
     "metadata": {},
     "output_type": "execute_result"
    }
   ],
   "source": [
    "def my_min(lst):\n",
    "    min_val = float(sum(lst))\n",
    "    for x in lst:\n",
    "        if x < min_val:\n",
    "            min_val = x\n",
    "    return min_val\n",
    "\n",
    "my_min(decrease)"
   ]
  },
  {
   "cell_type": "code",
   "execution_count": 137,
   "metadata": {},
   "outputs": [
    {
     "ename": "SyntaxError",
     "evalue": "invalid syntax (<ipython-input-137-c4da5b541c9f>, line 2)",
     "output_type": "error",
     "traceback": [
      "\u001b[0;36m  File \u001b[0;32m\"<ipython-input-137-c4da5b541c9f>\"\u001b[0;36m, line \u001b[0;32m2\u001b[0m\n\u001b[0;31m    print max(increase)\u001b[0m\n\u001b[0m            ^\u001b[0m\n\u001b[0;31mSyntaxError\u001b[0m\u001b[0;31m:\u001b[0m invalid syntax\n"
     ]
    }
   ],
   "source": [
    "increase.append(row[1])\n",
    "print max(increase)"
   ]
  },
  {
   "cell_type": "code",
   "execution_count": null,
   "metadata": {},
   "outputs": [],
   "source": []
  },
  {
   "cell_type": "code",
   "execution_count": null,
   "metadata": {},
   "outputs": [],
   "source": []
  }
 ],
 "metadata": {
  "kernelspec": {
   "display_name": "Python 3",
   "language": "python",
   "name": "python3"
  },
  "language_info": {
   "codemirror_mode": {
    "name": "ipython",
    "version": 3
   },
   "file_extension": ".py",
   "mimetype": "text/x-python",
   "name": "python",
   "nbconvert_exporter": "python",
   "pygments_lexer": "ipython3",
   "version": "3.6.5"
  }
 },
 "nbformat": 4,
 "nbformat_minor": 2
}
